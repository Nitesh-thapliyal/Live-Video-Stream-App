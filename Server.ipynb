{
 "cells": [
  {
   "cell_type": "code",
   "execution_count": null,
   "metadata": {},
   "outputs": [],
   "source": [
    "import socket\n",
    "import threading\n",
    "import cv2 as cv\n",
    "import numpy as np"
   ]
  },
  {
   "cell_type": "markdown",
   "metadata": {},
   "source": [
    "## Server program to which Client will connect"
   ]
  },
  {
   "cell_type": "code",
   "execution_count": null,
   "metadata": {},
   "outputs": [],
   "source": [
    "soc = socket.socket()\n",
    "soc.bind((\"\", 5678)) #here localhost IP is binded with the port number 5678\n",
    "soc.listen()\n",
    "session, address = soc.accept() #here it will accepts the request from anywhere\n",
    "print(session.recv(2046)) \n",
    "camIndex = 'http://192.168.0.103:8080/video' # here this IP is of IPCAMERA app \n",
    "cam = cv.VideoCapture(camIndex) # here camera is started\n",
    "\n",
    "def sender():\n",
    "    while True:\n",
    "        ret, photo = cam.read()\n",
    "        photo = cv.resize(photo, (640, 480))\n",
    "        print(photo.shape)\n",
    "        if ret:\n",
    "            session.send(np.ndarray.tobytes(photo))\n",
    "        else: print(\"No Frame Found\")\n",
    "\n",
    "def receiver():\n",
    "    framesLost = 0\n",
    "    print(\"Connecton Established\")\n",
    "    while True:\n",
    "        framesLost += 1 \n",
    "        data = session.recv(100000000)\n",
    "        if(data == b'finished'):\n",
    "            print(\"Finished\")\n",
    "            cam.release()\n",
    "            session.close()\n",
    "        else:\n",
    "            photo =  np.frombuffer(data, dtype=np.uint8)\n",
    "            if len(photo) == 640*480*3:\n",
    "                cv.imshow('Hi I am Client', photo.reshape(480, 640, 3))\n",
    "                if cv.waitKey(1) == 13:\n",
    "                    session.send(b'finished')\n",
    "                    cam.release()\n",
    "                    cv.destroyAllWindows()\n",
    "                    break\n",
    "            else:\n",
    "                print(\"Lost {} frames\".format(framesLost) )\n",
    "                \n",
    "threading.Thread(target=sender).start()\n",
    "threading.Thread(target=receiver).start()"
   ]
  },
  {
   "cell_type": "code",
   "execution_count": null,
   "metadata": {},
   "outputs": [],
   "source": []
  }
 ],
 "metadata": {
  "kernelspec": {
   "display_name": "Python 3",
   "language": "python",
   "name": "python3"
  },
  "language_info": {
   "codemirror_mode": {
    "name": "ipython",
    "version": 3
   },
   "file_extension": ".py",
   "mimetype": "text/x-python",
   "name": "python",
   "nbconvert_exporter": "python",
   "pygments_lexer": "ipython3",
   "version": "3.8.3"
  }
 },
 "nbformat": 4,
 "nbformat_minor": 4
}
