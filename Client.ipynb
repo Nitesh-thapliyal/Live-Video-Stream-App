{
 "cells": [
  {
   "cell_type": "code",
   "execution_count": null,
   "metadata": {},
   "outputs": [],
   "source": [
    "import socket\n",
    "import threading\n",
    "import cv2 as cv\n",
    "import numpy as np"
   ]
  },
  {
   "cell_type": "markdown",
   "metadata": {},
   "source": [
    "## Client Program that will connect to the server"
   ]
  },
  {
   "cell_type": "code",
   "execution_count": null,
   "metadata": {},
   "outputs": [],
   "source": [
    "\n",
    "soc = socket.socket()\n",
    "soc.bind((\"\", 1234))  # Here \" \" means localhost IP\n",
    "server_ip = input(\" Enter the Server IP adress -> \")\n",
    "server_port = input(\"Enter the Server Port number -> \")\n",
    "\n",
    "soc.connect((server_ip, int(server_port))) \n",
    "soc.send(b\"connected\")  # Here b is use to convert the data in the form of byte and send() sends it.\n",
    "camIndex = 0 #Here 0 means the internal camera \n",
    "cam = cv.VideoCapture(camIndex) # Here camera will start and start capturing the video\n",
    "\n",
    "# In the funtion below the Client will receive the data from server: Client <- Server\n",
    "def receiver():\n",
    "    framesLost = 0\n",
    "    print(\"Connection Established\")\n",
    "    while True:\n",
    "        framesLost += 1 # here it will count the frame lost\n",
    "        data = soc.recv(100000000)  # receiving data with the size limit\n",
    "        if(data == b'finished'):\n",
    "            print(\"Connection END\")\n",
    "            cam.release() #here this will close the camera \n",
    "            soc.close() # here this will end the connection\n",
    "        else:  \n",
    "            photo =  np.frombuffer(data, dtype=np.uint8) # here data in the form of byte is converted into numpy array \n",
    "            if len(photo) == 640*480*3: # here setting the size if window\n",
    "                cv.imshow('Hi I am Server', photo.reshape(480, 640, 3))\n",
    "                if cv.waitKey(1) == 13: # here 13 is the code for Enter and as soon as we press enter it will stop the camera\n",
    "                    soc.send(b'finished')\n",
    "                    cam.release() #here camera is released or closed\n",
    "                    cv.destroyAllWindows() #It will destroy the window as soon as we press the enter\n",
    "                    break\n",
    "            else:\n",
    "                print(\"Lost {} frames\".format(framesLost) ) #This will count the loss frame \n",
    "\n",
    "# In the function below the Client is connecting the server and sends the data: Client -> Server          \n",
    "def sender():\n",
    "    while True:  \n",
    "        ret, photo = cam.read() #here it is reading the camera data\n",
    "        photo = cv.resize(photo, (640, 480)) #here photo is resized\n",
    "        print(photo.shape)\n",
    "        if ret:\n",
    "            soc.send(np.ndarray.tobytes(photo))\n",
    "        else: print(\"No Frame Found\")\n",
    "    cam.release()\n",
    "\n",
    "#Threading\n",
    "threading.Thread(target=receiver).start()\n",
    "threading.Thread(target=sender).start()\n",
    "            "
   ]
  },
  {
   "cell_type": "code",
   "execution_count": null,
   "metadata": {},
   "outputs": [],
   "source": [
    "cam.release()"
   ]
  }
 ],
 "metadata": {
  "kernelspec": {
   "display_name": "Python 3",
   "language": "python",
   "name": "python3"
  },
  "language_info": {
   "codemirror_mode": {
    "name": "ipython",
    "version": 3
   },
   "file_extension": ".py",
   "mimetype": "text/x-python",
   "name": "python",
   "nbconvert_exporter": "python",
   "pygments_lexer": "ipython3",
   "version": "3.8.3"
  }
 },
 "nbformat": 4,
 "nbformat_minor": 4
}
